{
 "cells": [
  {
   "cell_type": "code",
   "execution_count": null,
   "id": "9ed8091c-c831-4efa-b9a4-f8f218a5561b",
   "metadata": {},
   "outputs": [],
   "source": [
    "import json\n",
    "\n",
    "with open('customers.json', 'r') as file:\n",
    "    data = json.load(file)\n",
    "\n",
    "print(data)"
   ]
  },
  {
   "cell_type": "code",
   "execution_count": null,
   "id": "162ad3a8-1694-41d5-98ed-b0f0c3b7932c",
   "metadata": {},
   "outputs": [],
   "source": [
    "import json\n",
    "\n",
    "with open('transaction_logs.json', 'r') as file:\n",
    "    data = json.load(file)\n",
    "\n",
    "print(data[:500])"
   ]
  },
  {
   "cell_type": "code",
   "execution_count": null,
   "id": "958662d6-0919-476c-a4c0-c11316e37abe",
   "metadata": {
    "scrolled": true
   },
   "outputs": [],
   "source": [
    "import json\n",
    "\n",
    "def read_json(file_path):\n",
    "    with open(file_path, 'r') as file:\n",
    "        data = json.load(file)\n",
    "    return data\n",
    "\n",
    "# File paths\n",
    "customer_file_path = r\"C:\\Users\\HP\\customers.json\"\n",
    "transaction_file_path = r\"C:\\Users\\HP\\transaction_logs.json\"\n",
    "\n",
    "# Reading data\n",
    "customer_data = read_json(customer_file_path)\n",
    "transaction_data = read_json(transaction_file_path)\n",
    "\n",
    "# Print basic statistics\n",
    "print(f\"Number of customer records: {len(customer_data)}\")\n",
    "print(f\"Number of transaction records: {len(transaction_data)}\")\n",
    "\n",
    "# Optionally print the keys of the first record to understand the structure\n",
    "print(\"\\nCustomer Data Keys:\")\n",
    "print(customer_data[0].keys() if customer_data else \"No data\")\n",
    "\n",
    "print(\"\\nTransaction Data Keys:\")\n",
    "print(transaction_data[0].keys() if transaction_data else \"No data\")\n"
   ]
  },
  {
   "cell_type": "code",
   "execution_count": null,
   "id": "5e9b3150-63fe-43ad-8f24-bee502f021a5",
   "metadata": {},
   "outputs": [],
   "source": [
    "import json\n",
    "import pandas as pd\n",
    "\n",
    "def read_json(file_path):\n",
    "    with open(file_path, 'r') as file:\n",
    "        data = json.load(file)\n",
    "    return data\n",
    "\n",
    "# File paths\n",
    "customer_file_path = r\"C:\\Users\\HP\\customers.json\"\n",
    "transaction_file_path = r\"C:\\Users\\HP\\transaction_logs.json\"\n",
    "\n",
    "# Reading data\n",
    "customer_data = read_json(customer_file_path)\n",
    "transaction_data = read_json(transaction_file_path)\n",
    "\n",
    "# Convert to DataFrame\n",
    "customers_df = pd.DataFrame(customer_data)\n",
    "transactions_df = pd.DataFrame(transaction_data)\n"
   ]
  },
  {
   "cell_type": "code",
   "execution_count": null,
   "id": "4b082ed7-ba6b-4f54-a1dd-e059c416cc22",
   "metadata": {},
   "outputs": [],
   "source": [
    "# Display the first few rows and summary of the customer data\n",
    "print(\"Customer Data Overview:\")\n",
    "print(customers_df.head())\n",
    "print(customers_df.info())\n",
    "print(customers_df.describe(include='all'))\n",
    "\n",
    "# Display the first few rows and summary of the transaction data\n",
    "print(\"\\nTransaction Data Overview:\")\n",
    "print(transactions_df.head())\n",
    "print(transactions_df.info())\n",
    "print(transactions_df.describe(include='all'))\n"
   ]
  },
  {
   "cell_type": "code",
   "execution_count": null,
   "id": "60036004-ea70-4389-a246-202c5fece2b9",
   "metadata": {},
   "outputs": [],
   "source": [
    "# List columns of the data\n",
    "print(\"Customer Data Columns:\")\n",
    "print(customers_df.columns)\n",
    "\n",
    "print(\"\\nTransaction Data Columns:\")\n",
    "print(transactions_df.columns)\n"
   ]
  },
  {
   "cell_type": "code",
   "execution_count": null,
   "id": "1fe8779b-e208-4434-bfea-036dbc02ae23",
   "metadata": {},
   "outputs": [],
   "source": [
    "# Check for missing values in customer data\n",
    "print(\"Missing Values in Customer Data:\")\n",
    "print(customers_df.isnull().sum())\n",
    "\n",
    "# Check for missing values in transaction data\n",
    "print(\"\\nMissing Values in Transaction Data:\")\n",
    "print(transactions_df.isnull().sum())\n"
   ]
  },
  {
   "cell_type": "code",
   "execution_count": null,
   "id": "3a9a662b-6f97-4dec-b4e4-3a5e839f51b5",
   "metadata": {},
   "outputs": [],
   "source": [
    "import matplotlib.pyplot as plt\n",
    "import seaborn as sns\n",
    "\n",
    "# Visualize relationships\n",
    "plt.figure(figsize=(12, 6))\n",
    "\n",
    "# Example scatter plot between 'qty' and 'price'\n",
    "sns.scatterplot(x='qty', y='price', data=transactions_df)\n",
    "plt.title('Quantity vs Price')\n",
    "plt.xlabel('Quantity')\n",
    "plt.ylabel('Price')\n",
    "plt.show()\n",
    "\n",
    "# Example distribution plot for 'price'\n",
    "plt.figure(figsize=(12, 6))\n",
    "sns.histplot(transactions_df['price'].dropna(), kde=True)\n",
    "plt.title('Distribution of Price')\n",
    "plt.xlabel('Price')\n",
    "plt.ylabel('Frequency')\n",
    "plt.show()\n"
   ]
  },
  {
   "cell_type": "code",
   "execution_count": null,
   "id": "45d1984e-6e07-4cb1-907b-431f7d43cc72",
   "metadata": {},
   "outputs": [],
   "source": [
    "# Fill missing values or drop rows\n",
    "customers_df = customers_df.fillna({'customer_name': 'Unknown', 'country': 'Unknown', 'city': 'Unknown'})\n",
    "transactions_df = transactions_df.fillna({\n",
    "    'qty': 0, \n",
    "    'price': 0.0, \n",
    "    'ecommerce_website_name': 'Unknown', \n",
    "    'payment_txn_id': 'Unknown', \n",
    "    'payment_txn_success': False, \n",
    "    'failure_reason': 'None'\n",
    "})\n"
   ]
  },
  {
   "cell_type": "code",
   "execution_count": null,
   "id": "44703144-cc73-4b65-a307-86ba0ec69c2a",
   "metadata": {},
   "outputs": [],
   "source": [
    "# Convert data types\n",
    "transactions_df['qty'] = transactions_df['qty'].astype(int)\n",
    "transactions_df['price'] = transactions_df['price'].astype(float)\n",
    "transactions_df['datetime'] = pd.to_datetime(transactions_df['datetime'])\n",
    "transactions_df['payment_txn_success'] = transactions_df['payment_txn_success'].astype(bool)\n"
   ]
  },
  {
   "cell_type": "code",
   "execution_count": null,
   "id": "b45de6ba-6775-4688-a1e5-f2c411cfa28b",
   "metadata": {},
   "outputs": [],
   "source": [
    "import pymysql"
   ]
  },
  {
   "cell_type": "code",
   "execution_count": null,
   "id": "f0bd0d43-c61b-4709-bd35-4eb37519f5b3",
   "metadata": {},
   "outputs": [],
   "source": [
    "from sqlalchemy import create_engine, text\n",
    "import pandas as pd\n",
    "\n",
    "# Replace with your MySQL database connection details\n",
    "username = 'root'\n",
    "password = '12345'\n",
    "host = 'localhost'\n",
    "database = 'my_database'\n",
    "\n",
    "# Create a connection string\n",
    "connection_string = f\"mysql+pymysql://{username}:{password}@{host}/{database}\"\n",
    "\n",
    "# Create an engine\n",
    "engine = create_engine(connection_string)\n",
    "\n",
    "# Test the connection by listing tables\n",
    "with engine.connect() as connection:\n",
    "    # Use text to wrap raw SQL statements\n",
    "    result = connection.execute(text(\"SHOW TABLES\"))\n",
    "    tables = [row[0] for row in result]\n",
    "    print(\"Tables in the database:\", tables)\n"
   ]
  },
  {
   "cell_type": "code",
   "execution_count": null,
   "id": "f176ab0f-466c-4b0d-b717-9d0b08a7221e",
   "metadata": {},
   "outputs": [],
   "source": [
    "# Read table names directly into a DataFrame\n",
    "df = pd.read_sql(\"SHOW TABLES\", con=engine)\n",
    "print(df)\n"
   ]
  },
  {
   "cell_type": "code",
   "execution_count": null,
   "id": "1b64f952-b8f3-45ca-b61f-5b8b57889fd3",
   "metadata": {},
   "outputs": [],
   "source": [
    "import mysql.connector\n",
    "db=mysql.connector.connect(\n",
    "    host=\"localhost\",\n",
    "    user=\"root\",\n",
    "    password=\"12345\",\n",
    "    database=\"my_database\"\n",
    ")"
   ]
  },
  {
   "cell_type": "code",
   "execution_count": null,
   "id": "57802bd0-3827-4ed8-b81e-40d6518f2659",
   "metadata": {},
   "outputs": [],
   "source": [
    "cursor=db.cursor()"
   ]
  },
  {
   "cell_type": "code",
   "execution_count": null,
   "id": "1728589e-5e3e-4921-9cbd-ccb28f5cb824",
   "metadata": {},
   "outputs": [],
   "source": [
    "from sqlalchemy import create_engine, text\n",
    "import pandas as pd\n",
    "\n",
    "# Replace with your MySQL database connection details\n",
    "username = 'root'\n",
    "password = '12345'\n",
    "host = 'localhost'\n",
    "database = 'my_database'\n",
    "\n",
    "# Create a connection string\n",
    "connection_string = f\"mysql+pymysql://{username}:{password}@{host}/{database}\"\n",
    "\n",
    "# Create an engine\n",
    "engine = create_engine(connection_string)\n",
    "\n",
    "# Check if tables exist\n",
    "with engine.connect() as connection:\n",
    "    result = connection.execute(text(\"SHOW TABLES\"))\n",
    "    tables = [row[0] for row in result]\n",
    "    print(\"Tables in the database:\", tables)\n"
   ]
  },
  {
   "cell_type": "code",
   "execution_count": null,
   "id": "2b570670-01b6-4543-b90c-e082702490e9",
   "metadata": {
    "scrolled": true
   },
   "outputs": [],
   "source": [
    "print(\"Customers DataFrame:\")\n",
    "print(customers_df)\n",
    "\n",
    "print(\"Transactions DataFrame:\")\n",
    "print(transactions_df)\n"
   ]
  },
  {
   "cell_type": "code",
   "execution_count": null,
   "id": "db7bb49c-f426-4bf6-bb68-caaa55ae4d31",
   "metadata": {},
   "outputs": [],
   "source": [
    "# Define SQL query to create Product table\n",
    "create_product_table_query = \"\"\"\n",
    "CREATE TABLE IF NOT EXISTS Product (\n",
    "    product_id VARCHAR(255) PRIMARY KEY,\n",
    "    product_name VARCHAR(255),\n",
    "    product_category VARCHAR(255)\n",
    ");\n",
    "\"\"\"\n",
    "\n",
    "# Execute the query to create the Product table\n",
    "with engine.connect() as connection:\n",
    "    connection.execute(text(create_product_table_query))\n"
   ]
  },
  {
   "cell_type": "code",
   "execution_count": null,
   "id": "f29b8b84-2a0b-45cf-90f2-9e15a6b08b59",
   "metadata": {},
   "outputs": [],
   "source": [
    "# Define SQL query to create Payment table\n",
    "create_payment_table_query = \"\"\"\n",
    "CREATE TABLE IF NOT EXISTS Payment (\n",
    "    payment_txn_id VARCHAR(255) PRIMARY KEY,\n",
    "    payment_type VARCHAR(255),\n",
    "    payment_txn_success BOOLEAN,\n",
    "    failure_reason TEXT\n",
    ");\n",
    "\"\"\"\n",
    "\n",
    "# Execute the query to create the Payment table\n",
    "with engine.connect() as connection:\n",
    "    connection.execute(text(create_payment_table_query))\n"
   ]
  },
  {
   "cell_type": "code",
   "execution_count": null,
   "id": "f6f7f38d-298b-48da-bbe5-2fa25a4efb24",
   "metadata": {},
   "outputs": [],
   "source": [
    "# Define SQL query to create EcommerceWebsite table\n",
    "create_ecommerce_table_query = \"\"\"\n",
    "CREATE TABLE IF NOT EXISTS EcommerceWebsite (\n",
    "    ecommerce_website_name VARCHAR(255) PRIMARY KEY\n",
    ");\n",
    "\"\"\"\n",
    "\n",
    "# Execute the query to create the EcommerceWebsite table\n",
    "with engine.connect() as connection:\n",
    "    connection.execute(text(create_ecommerce_table_query))\n"
   ]
  },
  {
   "cell_type": "code",
   "execution_count": null,
   "id": "c726af41-9129-457c-b099-dd3a96f15a8f",
   "metadata": {},
   "outputs": [],
   "source": [
    "# Check if the new tables were created\n",
    "with engine.connect() as connection:\n",
    "    result = connection.execute(text(\"SHOW TABLES\"))\n",
    "    tables = [row[0] for row in result]\n",
    "    print(\"Tables in the database:\", tables)\n"
   ]
  }
 ],
 "metadata": {
  "kernelspec": {
   "display_name": "Python 3 (ipykernel)",
   "language": "python",
   "name": "python3"
  },
  "language_info": {
   "codemirror_mode": {
    "name": "ipython",
    "version": 3
   },
   "file_extension": ".py",
   "mimetype": "text/x-python",
   "name": "python",
   "nbconvert_exporter": "python",
   "pygments_lexer": "ipython3",
   "version": "3.10.1"
  }
 },
 "nbformat": 4,
 "nbformat_minor": 5
}
